{
 "cells": [
  {
   "cell_type": "code",
   "execution_count": 1,
   "id": "29ca25c4-1149-4517-b622-3b0ec4e5337f",
   "metadata": {},
   "outputs": [],
   "source": [
    "# Importar librerias standard de Qiskit\n",
    "from qiskit import QuantumCircuit, QuantumRegister, ClassicalRegister, transpile\n",
    "from qiskit.circuit.library import XGate, RYGate, UGate, ZGate\n",
    "from qiskit.visualization import *\n",
    "from qiskit_ibm_runtime import QiskitRuntimeService\n",
    "from qiskit_aer import *\n",
    "\n",
    "import numpy as np\n",
    "\n",
    "service = QiskitRuntimeService(channel=\"local\")"
   ]
  },
  {
   "cell_type": "code",
   "execution_count": null,
   "id": "a66eb7c0-0fd7-41b3-950b-4f063c77955b",
   "metadata": {},
   "outputs": [],
   "source": [
    "def O_equal(): #Si f(0)=f(1) => O = Id\n",
    "    return(IGate())\n",
    "   \n",
    "def O_different(): #Si f(0)!=f(1) => O = Z\n",
    "    return(ZGate())   "
   ]
  }
 ],
 "metadata": {
  "kernelspec": {
   "display_name": "Python 3 (ipykernel)",
   "language": "python",
   "name": "python3"
  },
  "language_info": {
   "codemirror_mode": {
    "name": "ipython",
    "version": 3
   },
   "file_extension": ".py",
   "mimetype": "text/x-python",
   "name": "python",
   "nbconvert_exporter": "python",
   "pygments_lexer": "ipython3",
   "version": "3.12.6"
  }
 },
 "nbformat": 4,
 "nbformat_minor": 5
}
